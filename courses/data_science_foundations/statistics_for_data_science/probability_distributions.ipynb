{
 "cells": [
  {
   "cell_type": "markdown",
   "metadata": {},
   "source": [
    "## Probability Distributions"
   ]
  },
  {
   "cell_type": "code",
   "execution_count": 149,
   "metadata": {},
   "outputs": [],
   "source": [
    "# imports\n",
    "import numpy as np\n",
    "import scipy.stats as stats\n"
   ]
  },
  {
   "cell_type": "markdown",
   "metadata": {},
   "source": [
    "### Random Variables"
   ]
  },
  {
   "cell_type": "code",
   "execution_count": 150,
   "metadata": {},
   "outputs": [
    {
     "data": {
      "text/plain": [
       "array([1, 2, 2, 2, 5])"
      ]
     },
     "execution_count": 150,
     "metadata": {},
     "output_type": "execute_result"
    }
   ],
   "source": [
    "die_6 = range(1,7)\n",
    "num_rolls = 5\n",
    "rolls = np.random.choice(die_6, size=num_rolls, replace=True)\n",
    "rolls"
   ]
  },
  {
   "cell_type": "markdown",
   "metadata": {},
   "source": [
    "### Mass Functions\n",
    "- x: the value of interest\n",
    "- n: the number of trials\n",
    "- p: the probability of succes"
   ]
  },
  {
   "cell_type": "code",
   "execution_count": 151,
   "metadata": {},
   "outputs": [
    {
     "data": {
      "text/plain": [
       "0.11718750000000004"
      ]
     },
     "execution_count": 151,
     "metadata": {},
     "output_type": "execute_result"
    }
   ],
   "source": [
    "# value of interest\n",
    "x = 3\n",
    "# sample size\n",
    "n = 10\n",
    "\n",
    "prob_1 = stats.binom.pmf(x, n, 0.5)\n",
    "prob_1"
   ]
  },
  {
   "cell_type": "code",
   "execution_count": 152,
   "metadata": {},
   "outputs": [
    {
     "name": "stdout",
     "output_type": "stream",
     "text": [
      "0.6562500000000002\n"
     ]
    }
   ],
   "source": [
    "# probability of observing between 4 to 6 heads from 10 coin flips\n",
    "prob_2 = stats.binom.pmf(4,n=10, p=.5) + stats.binom.pmf(5,n=10, p=.5) + stats.binom.pmf(6,n=10, p=.5)\n",
    "print(prob_2)"
   ]
  },
  {
   "cell_type": "code",
   "execution_count": 153,
   "metadata": {},
   "outputs": [
    {
     "data": {
      "text/plain": [
       "0.9453124999999999"
      ]
     },
     "execution_count": 153,
     "metadata": {},
     "output_type": "execute_result"
    }
   ],
   "source": [
    "# probability of observing more than 2 heads from 10 coin flips\n",
    "prob_3 = 1 - (stats.binom.pmf(0, n=10, p=0.5) + stats.binom.pmf(1, n=10, p=0.5) + stats.binom.pmf(2, n=10, p=0.5))\n",
    "prob_3\n"
   ]
  },
  {
   "cell_type": "markdown",
   "metadata": {},
   "source": [
    "### Cumulative Distribution\n",
    "we wanted to know the probability from 3 to 6, which includes 3. Mathematically, this looks like the following equation:\n",
    "\n",
    "- P(X≤6) = CDF(X=6) = 0.83\n",
    "- P(X≤2) = CDF(X=2) = 0.05\n",
    "\n",
    "- P(X≤6) - P(X≤2) = P(3≤X≤6)\n",
    "- CDF(X=6) - CDF(X=2) = P(3≤X≤6)\n",
    "- 0.83 - 0.05 = 0.78"
   ]
  },
  {
   "cell_type": "code",
   "execution_count": 154,
   "metadata": {},
   "outputs": [
    {
     "data": {
      "text/plain": [
       "0.828125"
      ]
     },
     "execution_count": 154,
     "metadata": {},
     "output_type": "execute_result"
    }
   ],
   "source": [
    "# 6 or fewer heads from 10 fair coin flips\n",
    "stats.binom.cdf(6, 10, 0.5)"
   ]
  },
  {
   "cell_type": "code",
   "execution_count": 155,
   "metadata": {},
   "outputs": [
    {
     "data": {
      "text/plain": [
       "0.8173828125"
      ]
     },
     "execution_count": 155,
     "metadata": {},
     "output_type": "execute_result"
    }
   ],
   "source": [
    "# P(4 to 8 Heads) = P(0 to 8 Heads) − P(0 to 3 Heads)\n",
    "stats.binom.cdf(8,10,0.5) - stats.binom.cdf(3,10,0.5)"
   ]
  },
  {
   "cell_type": "code",
   "execution_count": 156,
   "metadata": {},
   "outputs": [
    {
     "data": {
      "text/plain": [
       "0.171875"
      ]
     },
     "execution_count": 156,
     "metadata": {},
     "output_type": "execute_result"
    }
   ],
   "source": [
    "# more than 6 heads from 10 fair coin flips (Note that “more than 6 heads” does not include 6.)\n",
    "1 - stats.binom.cdf(6, 10, 0.5)"
   ]
  },
  {
   "cell_type": "markdown",
   "metadata": {},
   "source": [
    "###  Density Functions\n",
    "- x: the value of interest\n",
    "- loc: the mean of the probability distribution\n",
    "- scale: the standard deviation of the probability distribution"
   ]
  },
  {
   "cell_type": "code",
   "execution_count": 157,
   "metadata": {},
   "outputs": [
    {
     "data": {
      "text/plain": [
       "0.8212136203856288"
      ]
     },
     "execution_count": 157,
     "metadata": {},
     "output_type": "execute_result"
    }
   ],
   "source": [
    "# the probability that a randomly chosen woman is less than 175 cm tall.\n",
    "# stats.norm.cdf(x, loc, scale)\n",
    "stats.norm.cdf(175, 167.64, 8)"
   ]
  },
  {
   "cell_type": "markdown",
   "metadata": {},
   "source": [
    "#### Probability Density Functions and Cumulative Distribution Function"
   ]
  },
  {
   "cell_type": "code",
   "execution_count": 158,
   "metadata": {},
   "outputs": [
    {
     "data": {
      "text/plain": [
       "0.6997171101802624"
      ]
     },
     "execution_count": 158,
     "metadata": {},
     "output_type": "execute_result"
    }
   ],
   "source": [
    "# The weather in the Galapagos islands follows a Normal distribution with a mean of 20 degrees Celcius and a standard deviation of 3 degrees.\n",
    "degrees_mean = 20\n",
    "degrees_std = 3\n",
    "\n",
    "# probability that the weather on a randomly selected day will be between 18 to 25 degrees Celcius \n",
    "stats.norm.cdf(25,degrees_mean,degrees_std) - stats.norm.cdf(18,degrees_mean, degrees_std)"
   ]
  },
  {
   "cell_type": "code",
   "execution_count": 159,
   "metadata": {},
   "outputs": [
    {
     "data": {
      "text/plain": [
       "0.09121121972586788"
      ]
     },
     "execution_count": 159,
     "metadata": {},
     "output_type": "execute_result"
    }
   ],
   "source": [
    "# probability that the weather on a randomly selected day will be greater than 24 degrees Celsius\n",
    "1 - stats.norm.cdf(24,degrees_mean,degrees_std)"
   ]
  },
  {
   "cell_type": "markdown",
   "metadata": {},
   "source": [
    "### Poisson Distribution\n",
    "The Poisson distribution is another common distribution, and it is used to describe the number of times a certain event occurs within a fixed time or space interval.\n",
    "\n",
    "The Poisson distribution is defined by the rate parameter, symbolized by the Greek letter lambda, λ."
   ]
  },
  {
   "cell_type": "markdown",
   "metadata": {},
   "source": [
    "#### with pmf"
   ]
  },
  {
   "cell_type": "code",
   "execution_count": 160,
   "metadata": {},
   "outputs": [
    {
     "data": {
      "text/plain": [
       "0.06305545800345125"
      ]
     },
     "execution_count": 160,
     "metadata": {},
     "output_type": "execute_result"
    }
   ],
   "source": [
    "# expected value = 10, probability of observing 6\n",
    "stats.poisson.pmf(6,10)\n"
   ]
  },
  {
   "cell_type": "code",
   "execution_count": 161,
   "metadata": {},
   "outputs": [
    {
     "data": {
      "text/plain": [
       "0.21976538076223123"
      ]
     },
     "execution_count": 161,
     "metadata": {},
     "output_type": "execute_result"
    }
   ],
   "source": [
    "# expected value = 10, probability of observing 12-14\n",
    "prob_4 = stats.poisson.pmf(12,10) + stats.poisson.pmf(13,10) + stats.poisson.pmf(14,10)\n",
    "prob_4"
   ]
  },
  {
   "cell_type": "markdown",
   "metadata": {},
   "source": [
    "#### with cdf"
   ]
  },
  {
   "cell_type": "code",
   "execution_count": 162,
   "metadata": {},
   "outputs": [
    {
     "data": {
      "text/plain": [
       "0.130141420882483"
      ]
     },
     "execution_count": 162,
     "metadata": {},
     "output_type": "execute_result"
    }
   ],
   "source": [
    "# expected value = 10, probability of observing 6 or less\n",
    "stats.poisson.cdf(6,10)"
   ]
  },
  {
   "cell_type": "code",
   "execution_count": 163,
   "metadata": {},
   "outputs": [
    {
     "data": {
      "text/plain": [
       "0.30322385369689386"
      ]
     },
     "execution_count": 163,
     "metadata": {},
     "output_type": "execute_result"
    }
   ],
   "source": [
    "# expected value = 10, probability of observing 12 or more\n",
    "1 - stats.poisson.cdf(11,10)"
   ]
  },
  {
   "cell_type": "code",
   "execution_count": 164,
   "metadata": {},
   "outputs": [
    {
     "data": {
      "text/plain": [
       "0.29603734909303947"
      ]
     },
     "execution_count": 164,
     "metadata": {},
     "output_type": "execute_result"
    }
   ],
   "source": [
    "# expected value = 10, probability of observing between 12 and 18\n",
    "stats.poisson.cdf(18, 10) - stats.poisson.cdf(11, 10)"
   ]
  },
  {
   "cell_type": "markdown",
   "metadata": {},
   "source": [
    "#### Expectation of the Poisson Distribution"
   ]
  },
  {
   "cell_type": "code",
   "execution_count": 165,
   "metadata": {},
   "outputs": [
    {
     "data": {
      "text/plain": [
       "9.977"
      ]
     },
     "execution_count": 165,
     "metadata": {},
     "output_type": "execute_result"
    }
   ],
   "source": [
    "# generate random variable\n",
    "# stats.poisson.rvs(lambda, size = num_values)\n",
    "rvs = stats.poisson.rvs(10, size = 1000)\n",
    "rvs.mean()"
   ]
  },
  {
   "cell_type": "markdown",
   "metadata": {},
   "source": [
    "#### Spread of the Poisson Distribution\n",
    "In probability distributions, variance measures the spread of values and probabilities. For the Poisson distribution, variance is equal to lambda (λ), meaning the expected value and variance are the same."
   ]
  },
  {
   "cell_type": "code",
   "execution_count": 166,
   "metadata": {},
   "outputs": [
    {
     "name": "stdout",
     "output_type": "stream",
     "text": [
      "4.173856\n"
     ]
    }
   ],
   "source": [
    "# We can calculate the variance of a sample using the numpy.var() method:\n",
    "rand_vars = stats.poisson.rvs(4, size = 1000)\n",
    "print(np.var(rand_vars))\n"
   ]
  },
  {
   "cell_type": "markdown",
   "metadata": {},
   "source": [
    "To observe the increase in possible values, we can consider the range of a sample, which is the difference between the minimum and maximum values in a set. For example, using Python, we can draw 1000 random variables from a Poisson distribution with lambda = 4 and print the minimum and maximum values with .min() and .max() functions:"
   ]
  },
  {
   "cell_type": "code",
   "execution_count": 167,
   "metadata": {},
   "outputs": [
    {
     "data": {
      "text/plain": [
       "(0, 12)"
      ]
     },
     "execution_count": 167,
     "metadata": {},
     "output_type": "execute_result"
    }
   ],
   "source": [
    "min(rand_vars), max(rand_vars)\n"
   ]
  },
  {
   "cell_type": "code",
   "execution_count": 168,
   "metadata": {},
   "outputs": [
    {
     "data": {
      "text/plain": [
       "(2, 26)"
      ]
     },
     "execution_count": 168,
     "metadata": {},
     "output_type": "execute_result"
    }
   ],
   "source": [
    "rand_vars_2 = stats.poisson.rvs(10, size =1000)\n",
    "min(rand_vars_2), max(rand_vars_2)\n"
   ]
  },
  {
   "cell_type": "markdown",
   "metadata": {},
   "source": [
    "### Expected Value of the Binomial Distribution\n"
   ]
  },
  {
   "cell_type": "code",
   "execution_count": 169,
   "metadata": {},
   "outputs": [
    {
     "data": {
      "text/plain": [
       "17.0"
      ]
     },
     "execution_count": 169,
     "metadata": {},
     "output_type": "execute_result"
    }
   ],
   "source": [
    "# A certain basketball player has an 85% chance of making a given free throw and takes 20 free throws.\n",
    "expected_baskets = 20*0.85\n",
    "expected_baskets"
   ]
  },
  {
   "cell_type": "markdown",
   "metadata": {},
   "source": [
    "#### Variance of the Binomial Distribution\n",
    "The variance of a binomial distribution is how much the expected value of success may vary.\n",
    "The variance of a single coin flip will be the probability that the success happens times the probability that it does not happen: p·(1-p), or 0.5 x 0.5. Because we have n = 10 number of coin flips, the variance of a single fair coin flip is multiplied by the number of flips. Thus we get the equation:\n",
    "\n",
    "- Variance(#ofHeads)=Var(X)=n×p×(1−p)\n",
    "- Variance(#ofHeads)=10×0.5×(1−0.5)=2.5\n",
    "​\t "
   ]
  },
  {
   "cell_type": "code",
   "execution_count": 170,
   "metadata": {},
   "outputs": [
    {
     "data": {
      "text/plain": [
       "2.55"
      ]
     },
     "execution_count": 170,
     "metadata": {},
     "output_type": "execute_result"
    }
   ],
   "source": [
    "variance_baskets = 20 * 0.85 * 0.15\n",
    "variance_baskets"
   ]
  },
  {
   "cell_type": "markdown",
   "metadata": {},
   "source": [
    "### Properties of Expectation and Variance\n",
    "#### Properties of Expectation\n",
    "- $E(X+Y)=E(X)+E(Y)$\n",
    "- $E(aX)=aE(X)$\n",
    "- $E(X+a)=E(X)+a$\n",
    "\n",
    "#### Properties of Variance\n",
    "- $Var(X+a)=Var(X)$\n",
    "- $Var(aX)=a^2Var(X)$\n",
    "- $Var(X+Y)=Var(X)+Var(Y)$ (This principle ONLY holds if the X and Y are independent random variables.)\n",
    "\n",
    "\n",
    "\n"
   ]
  },
  {
   "cell_type": "code",
   "execution_count": 171,
   "metadata": {},
   "outputs": [
    {
     "data": {
      "text/plain": [
       "4.3275"
      ]
     },
     "execution_count": 171,
     "metadata": {},
     "output_type": "execute_result"
    }
   ],
   "source": [
    "num_goals =  stats.poisson.rvs(4,size = 100)\n",
    "np.var(num_goals)\n"
   ]
  },
  {
   "cell_type": "markdown",
   "metadata": {},
   "source": [
    "The variance of num_goals_2 is equal to the variance of num_goals times two squared"
   ]
  },
  {
   "cell_type": "code",
   "execution_count": 172,
   "metadata": {},
   "outputs": [
    {
     "data": {
      "text/plain": [
       "17.31"
      ]
     },
     "execution_count": 172,
     "metadata": {},
     "output_type": "execute_result"
    }
   ],
   "source": [
    "num_goals_2 = num_goals * 2\n",
    "np.var(num_goals_2)"
   ]
  },
  {
   "cell_type": "markdown",
   "metadata": {},
   "source": [
    "### Review\n",
    "- The Poisson distribution and its parameter lambda (λ)\n",
    "- How the probability mass function of the Poisson distribution changes with different values of lambda (λ)\n",
    "- Calculating probabilities of specific values and ranges of values from the Poisson distribution\n",
    "- Calculating probabilities of ranges using the cumulative density function of the Poisson distribution\n",
    "- Generating random values from a distribution\n",
    "- Principles of expectation and variance of various distributions\n",
    "- Universal properties of expectation and variance"
   ]
  }
 ],
 "metadata": {
  "kernelspec": {
   "display_name": "Python 3",
   "language": "python",
   "name": "python3"
  },
  "language_info": {
   "codemirror_mode": {
    "name": "ipython",
    "version": 3
   },
   "file_extension": ".py",
   "mimetype": "text/x-python",
   "name": "python",
   "nbconvert_exporter": "python",
   "pygments_lexer": "ipython3",
   "version": "3.12.2"
  }
 },
 "nbformat": 4,
 "nbformat_minor": 2
}
