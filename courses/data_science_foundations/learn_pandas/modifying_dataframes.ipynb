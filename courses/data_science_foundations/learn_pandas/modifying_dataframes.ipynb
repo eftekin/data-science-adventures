{
 "cells": [
  {
   "cell_type": "markdown",
   "metadata": {},
   "source": [
    "# Modifying DataFrames\n"
   ]
  },
  {
   "cell_type": "code",
   "execution_count": null,
   "metadata": {},
   "outputs": [],
   "source": [
    "import pandas as pd"
   ]
  },
  {
   "cell_type": "code",
   "execution_count": null,
   "metadata": {},
   "outputs": [],
   "source": [
    "df = pd.DataFrame(\n",
    "    [\n",
    "        [1, \"3 inch screw\", 0.5, 0.75],\n",
    "        [2, \"2 inch nail\", 0.10, 0.25],\n",
    "        [3, \"hammer\", 3.00, 5.50],\n",
    "        [4, \"screwdriver\", 2.50, 3.00],\n",
    "    ],\n",
    "    columns=[\"Product ID\", \"Description\", \"Cost to Manufacture\", \"Price\"],\n",
    ")\n",
    "df"
   ]
  },
  {
   "cell_type": "markdown",
   "metadata": {},
   "source": [
    "### Adding Columns\n"
   ]
  },
  {
   "cell_type": "code",
   "execution_count": null,
   "metadata": {},
   "outputs": [],
   "source": [
    "df[\"Sold in Bulk?\"] = [\"Yes\", \"Yes\", \"No\", \"No\"]\n",
    "df"
   ]
  },
  {
   "cell_type": "code",
   "execution_count": null,
   "metadata": {},
   "outputs": [],
   "source": [
    "df[\"Is taxed?\"] = \"Yes\"\n",
    "df"
   ]
  },
  {
   "cell_type": "code",
   "execution_count": null,
   "metadata": {},
   "outputs": [],
   "source": [
    "df[\"Margin\"] = df.Price - df[\"Cost to Manufacture\"]\n",
    "df"
   ]
  },
  {
   "cell_type": "markdown",
   "metadata": {},
   "source": [
    "### Column Operations\n"
   ]
  },
  {
   "cell_type": "code",
   "execution_count": null,
   "metadata": {},
   "outputs": [],
   "source": [
    "df.Description = df.Description.apply(str.upper)\n",
    "df"
   ]
  },
  {
   "cell_type": "markdown",
   "metadata": {},
   "source": [
    "### Applying a Lambda to a Column\n"
   ]
  },
  {
   "cell_type": "code",
   "execution_count": null,
   "metadata": {},
   "outputs": [],
   "source": [
    "df2 = pd.read_csv(\"./csv/employees.csv\")\n",
    "\n",
    "get_last_name = lambda x: x.split(\" \")[-1]\n",
    "\n",
    "df2[\"last_name\"] = df2[\"name\"].apply(get_last_name)\n",
    "\n",
    "df2.head()"
   ]
  },
  {
   "cell_type": "code",
   "execution_count": null,
   "metadata": {},
   "outputs": [],
   "source": [
    "total_earned = (\n",
    "    lambda row: row[\"hours_worked\"] * row[\"hourly_wage\"]\n",
    "    if row[\"hours_worked\"] <= 40\n",
    "    else 40 * row[\"hourly_wage\"]\n",
    "    + (row[\"hours_worked\"] - 40) * (row[\"hourly_wage\"] * 1.5)\n",
    ")\n",
    "\n",
    "df2[\"total_earned\"] = df2.apply(total_earned, axis=1)\n",
    "df2.head()"
   ]
  },
  {
   "cell_type": "markdown",
   "metadata": {},
   "source": [
    "### Renaming Columns\n"
   ]
  },
  {
   "cell_type": "code",
   "execution_count": null,
   "metadata": {},
   "outputs": [],
   "source": [
    "df2.columns = [\n",
    "    \"ID\",\n",
    "    \"Name\",\n",
    "    \"Hourly Wage\",\n",
    "    \"Hours Worked\",\n",
    "    \" Last Name\",\n",
    "    \"Total Earned\",\n",
    "]\n",
    "df2.columns = [\"id\", \"name\", \"hourly_wage\", \"hours_worked\", \"last_name\", \"total_earned\"]\n",
    "df2.head()"
   ]
  },
  {
   "cell_type": "code",
   "execution_count": null,
   "metadata": {},
   "outputs": [],
   "source": [
    "df2.rename(\n",
    "    columns={\"id\": \"Employee ID\", \"total_earned\": \"Earning\"}, inplace=True\n",
    ")  # Using inplace=True lets us edit the original DataFrame\n",
    "df2.rename(columns={\"Employee ID\": \"id\", \"Earning\": \"total_earned\"}, inplace=True)\n",
    "df2.head()"
   ]
  }
 ],
 "metadata": {
  "kernelspec": {
   "display_name": "Python 3",
   "language": "python",
   "name": "python3"
  },
  "language_info": {
   "codemirror_mode": {
    "name": "ipython",
    "version": 3
   },
   "file_extension": ".py",
   "mimetype": "text/x-python",
   "name": "python",
   "nbconvert_exporter": "python",
   "pygments_lexer": "ipython3",
   "version": "3.11.6"
  }
 },
 "nbformat": 4,
 "nbformat_minor": 2
}
