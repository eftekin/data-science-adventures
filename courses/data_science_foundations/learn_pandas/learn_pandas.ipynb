{
 "cells": [
  {
   "cell_type": "markdown",
   "metadata": {},
   "source": [
    "### Import Library\n"
   ]
  },
  {
   "cell_type": "code",
   "execution_count": null,
   "metadata": {},
   "outputs": [],
   "source": [
    "import pandas as pd"
   ]
  },
  {
   "cell_type": "markdown",
   "metadata": {},
   "source": [
    "### Create DataFrame\n"
   ]
  },
  {
   "cell_type": "code",
   "execution_count": null,
   "metadata": {},
   "outputs": [],
   "source": [
    "df1 = pd.DataFrame(\n",
    "    {\n",
    "        \"Product ID\": [1, 2, 3, 4],\n",
    "        \"Product Name\": [\"t-shirt\", \"t-shirt\", \"skirt\", \"skirt\"],\n",
    "        \"Color\": [\"blue\", \"green\", \"red\", \"black\"],\n",
    "    }\n",
    ")\n",
    "df1"
   ]
  },
  {
   "cell_type": "code",
   "execution_count": null,
   "metadata": {},
   "outputs": [],
   "source": [
    "df2 = pd.DataFrame(\n",
    "    [\n",
    "        [1, \"San Diego\", 100],\n",
    "        [2, \"Los Angeles\", 120],\n",
    "        [3, \"San Francisco\", 90],\n",
    "        [4, \"Sacramento\", 115],\n",
    "    ],\n",
    "    columns=[\"Store ID\", \"Location\", \"Number of Employees\"],\n",
    ")\n",
    "\n",
    "df2"
   ]
  },
  {
   "cell_type": "markdown",
   "metadata": {},
   "source": [
    "### Read CSV\n"
   ]
  },
  {
   "cell_type": "code",
   "execution_count": null,
   "metadata": {},
   "outputs": [],
   "source": [
    "df = pd.read_csv(\"./csv/Electric_Vehicle_Population_Data.csv\")\n",
    "df.head(3)"
   ]
  },
  {
   "cell_type": "markdown",
   "metadata": {},
   "source": [
    "### Select Column\n"
   ]
  },
  {
   "cell_type": "code",
   "execution_count": null,
   "metadata": {},
   "outputs": [],
   "source": [
    "model_year = df[\"Model Year\"]\n",
    "type(model_year)\n",
    "model_year.head()"
   ]
  },
  {
   "cell_type": "markdown",
   "metadata": {},
   "source": [
    "### Select Multiple Columns\n"
   ]
  },
  {
   "cell_type": "code",
   "execution_count": null,
   "metadata": {},
   "outputs": [],
   "source": [
    "model_and_range = df[[\"Model\", \"Electric Range\"]]\n",
    "model_and_range\n",
    "type(model_and_range)"
   ]
  },
  {
   "cell_type": "markdown",
   "metadata": {},
   "source": [
    "### Select Rows\n"
   ]
  },
  {
   "cell_type": "code",
   "execution_count": null,
   "metadata": {},
   "outputs": [],
   "source": [
    "model_and_range.iloc[2]  # Select one row"
   ]
  },
  {
   "cell_type": "code",
   "execution_count": null,
   "metadata": {},
   "outputs": [],
   "source": [
    "model_and_range.iloc[2:10]  # Select multiple row 2 to 10 (not including 10)"
   ]
  },
  {
   "cell_type": "code",
   "execution_count": null,
   "metadata": {},
   "outputs": [],
   "source": [
    "model_and_range.iloc[:4]  # Select multiple row start to 4 (not including 4)"
   ]
  },
  {
   "cell_type": "code",
   "execution_count": null,
   "metadata": {},
   "outputs": [],
   "source": [
    "model_and_range.iloc[-3:]  # Select multiple row (last 3 rows)"
   ]
  },
  {
   "cell_type": "markdown",
   "metadata": {},
   "source": [
    "### Select Rows with Logic\n"
   ]
  },
  {
   "cell_type": "code",
   "execution_count": null,
   "metadata": {},
   "outputs": [],
   "source": [
    "model3_df = model_and_range[model_and_range.Model == \"MODEL 3\"]\n",
    "model3_df.head()"
   ]
  },
  {
   "cell_type": "code",
   "execution_count": null,
   "metadata": {},
   "outputs": [],
   "source": [
    "range_greater_300 = model_and_range[\n",
    "    (model_and_range[\"Electric Range\"] > 300) & (model_and_range.Model != \"MODEL 3\")\n",
    "]\n",
    "range_greater_300.head()"
   ]
  },
  {
   "cell_type": "code",
   "execution_count": null,
   "metadata": {},
   "outputs": [],
   "source": [
    "range_less_300 = model_and_range[model_and_range[\"Electric Range\"] < 300]\n",
    "range_less_300.head()"
   ]
  },
  {
   "cell_type": "code",
   "execution_count": null,
   "metadata": {},
   "outputs": [],
   "source": [
    "tesla = df[(df.Make == \"TESLA\") | (df[\"Electric Range\"] > 340)]\n",
    "tesla.head()"
   ]
  },
  {
   "cell_type": "code",
   "execution_count": null,
   "metadata": {},
   "outputs": [],
   "source": [
    "tesla_and_mercedes = df[df.Make.isin([\"TESLA\", \"MERCEDES-BENZ\"])]\n",
    "tesla_and_mercedes.head()"
   ]
  },
  {
   "cell_type": "code",
   "execution_count": null,
   "metadata": {},
   "outputs": [],
   "source": [
    "tesla_and_mercedes_reset_index = tesla_and_mercedes.reset_index(\n",
    "    drop=True\n",
    ")  # Drop module drops the extra column\n",
    "tesla_and_mercedes_reset_index.head()"
   ]
  }
 ],
 "metadata": {
  "kernelspec": {
   "display_name": "Python 3",
   "language": "python",
   "name": "python3"
  },
  "language_info": {
   "codemirror_mode": {
    "name": "ipython",
    "version": 3
   },
   "file_extension": ".py",
   "mimetype": "text/x-python",
   "name": "python",
   "nbconvert_exporter": "python",
   "pygments_lexer": "ipython3",
   "version": "3.11.6"
  }
 },
 "nbformat": 4,
 "nbformat_minor": 2
}
