{
 "cells": [
  {
   "cell_type": "markdown",
   "metadata": {},
   "source": [
    "# Aggregates in Pandas\n"
   ]
  },
  {
   "cell_type": "markdown",
   "metadata": {},
   "source": [
    "| Command | Description                       |\n",
    "| ------- | --------------------------------- |\n",
    "| mean    | Average of all values in column   |\n",
    "| std     | Standard deviation                |\n",
    "| median  | Median                            |\n",
    "| max     | Maximum value in column           |\n",
    "| min     | Minimum value in column           |\n",
    "| count   | Number of values in column        |\n",
    "| nunique | Number of unique values in column |\n",
    "| unique  | List of unique values in column   |\n"
   ]
  },
  {
   "cell_type": "code",
   "execution_count": null,
   "metadata": {},
   "outputs": [],
   "source": [
    "import pandas as pd"
   ]
  },
  {
   "cell_type": "code",
   "execution_count": null,
   "metadata": {},
   "outputs": [],
   "source": [
    "orders = pd.read_csv(\"./csv/orders.csv\")\n",
    "orders.head()"
   ]
  },
  {
   "cell_type": "markdown",
   "metadata": {},
   "source": [
    "### Calculating Column Statistics\n"
   ]
  },
  {
   "cell_type": "code",
   "execution_count": null,
   "metadata": {},
   "outputs": [],
   "source": [
    "most_expensive = orders.price.max()\n",
    "most_expensive"
   ]
  },
  {
   "cell_type": "code",
   "execution_count": null,
   "metadata": {},
   "outputs": [],
   "source": [
    "num_colors = orders.shoe_color.nunique()\n",
    "num_colors"
   ]
  },
  {
   "cell_type": "markdown",
   "metadata": {},
   "source": [
    "### Calculating Aggregate Functions\n"
   ]
  },
  {
   "cell_type": "code",
   "execution_count": null,
   "metadata": {},
   "outputs": [],
   "source": [
    "pricey_shoes = orders.groupby(\"shoe_type\").price.max()\n",
    "pricey_shoes\n",
    "# type(pricey_shoes) pandas.core.series.Series"
   ]
  },
  {
   "cell_type": "code",
   "execution_count": null,
   "metadata": {},
   "outputs": [],
   "source": [
    "pricey_shoes_reset_index = orders.groupby(\"shoe_type\").price.max().reset_index()\n",
    "pricey_shoes_reset_index\n",
    "# type(pricey_shoes_reset_index) pandas.core.frame.DataFrame"
   ]
  },
  {
   "cell_type": "code",
   "execution_count": null,
   "metadata": {},
   "outputs": [],
   "source": [
    "import numpy as np"
   ]
  },
  {
   "cell_type": "code",
   "execution_count": null,
   "metadata": {},
   "outputs": [],
   "source": [
    "cheap_shoes = (\n",
    "    orders.groupby(\"shoe_color\")\n",
    "    .price.apply(lambda x: np.percentile(x, 25))\n",
    "    .reset_index()\n",
    ")\n",
    "cheap_shoes"
   ]
  },
  {
   "cell_type": "code",
   "execution_count": null,
   "metadata": {},
   "outputs": [],
   "source": [
    "shoe_counts = orders.groupby([\"shoe_type\", \"shoe_color\"]).id.count().reset_index()\n",
    "shoe_counts.rename(columns={\"id\": \"counts\"}, inplace=True)\n",
    "shoe_counts"
   ]
  },
  {
   "cell_type": "code",
   "execution_count": null,
   "metadata": {},
   "outputs": [],
   "source": [
    "shoe_counts_pivot = shoe_counts.pivot(\n",
    "    columns=\"shoe_color\", index=\"shoe_type\", values=\"counts\"\n",
    ").reset_index()\n",
    "shoe_counts_pivot"
   ]
  },
  {
   "cell_type": "markdown",
   "metadata": {},
   "source": [
    "### Review\n"
   ]
  },
  {
   "cell_type": "code",
   "execution_count": null,
   "metadata": {},
   "outputs": [],
   "source": [
    "user_visits = pd.read_csv(\"./csv/page_visits.csv\")\n",
    "user_visits.head()"
   ]
  },
  {
   "cell_type": "code",
   "execution_count": null,
   "metadata": {},
   "outputs": [],
   "source": [
    "# the user came to ShoeFly by clicking on an ad on Facebook.com\n",
    "click_source = user_visits.groupby(\"utm_source\").id.count().reset_index()\n",
    "click_source"
   ]
  },
  {
   "cell_type": "code",
   "execution_count": null,
   "metadata": {},
   "outputs": [],
   "source": [
    "# calculate the number of visits to our site from each utm_source for each month\n",
    "click_source_by_month = (\n",
    "    user_visits.groupby([\"utm_source\", \"month\"]).id.count().reset_index()\n",
    ")\n",
    "click_source_by_month"
   ]
  },
  {
   "cell_type": "code",
   "execution_count": null,
   "metadata": {},
   "outputs": [],
   "source": [
    "click_source_by_month_pivot = click_source_by_month.pivot(\n",
    "    columns=\"month\", index=\"utm_source\", values=\"id\"\n",
    ").reset_index\n",
    "click_source_by_month_pivot"
   ]
  },
  {
   "cell_type": "code",
   "execution_count": null,
   "metadata": {},
   "outputs": [],
   "source": []
  }
 ],
 "metadata": {
  "kernelspec": {
   "display_name": "Python 3",
   "language": "python",
   "name": "python3"
  },
  "language_info": {
   "codemirror_mode": {
    "name": "ipython",
    "version": 3
   },
   "file_extension": ".py",
   "mimetype": "text/x-python",
   "name": "python",
   "nbconvert_exporter": "python",
   "pygments_lexer": "ipython3",
   "version": "3.11.6"
  }
 },
 "nbformat": 4,
 "nbformat_minor": 2
}
