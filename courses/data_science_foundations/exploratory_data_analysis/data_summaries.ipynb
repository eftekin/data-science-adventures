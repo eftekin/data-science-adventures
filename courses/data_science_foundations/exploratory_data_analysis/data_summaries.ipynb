{
 "cells": [
  {
   "cell_type": "markdown",
   "metadata": {},
   "source": [
    "### Introduction\n"
   ]
  },
  {
   "cell_type": "code",
   "execution_count": null,
   "metadata": {},
   "outputs": [],
   "source": [
    "import pandas as pd"
   ]
  },
  {
   "cell_type": "code",
   "execution_count": null,
   "metadata": {},
   "outputs": [],
   "source": [
    "movies = pd.read_csv(\"../learn_pandas/csv/movies.csv\")\n",
    "movies.head(5)"
   ]
  },
  {
   "cell_type": "markdown",
   "metadata": {},
   "source": [
    "### Display summary statistics for all columns\n"
   ]
  },
  {
   "cell_type": "code",
   "execution_count": null,
   "metadata": {},
   "outputs": [],
   "source": [
    "movies.describe(include=\"all\")"
   ]
  },
  {
   "cell_type": "markdown",
   "metadata": {},
   "source": [
    "### Central Tendency for Quantitative Data\n",
    "\n",
    "There are several common measures of central tendency:\n",
    "\n",
    "- Mean: The average value of the variable, calculated as the sum of all values divided by the number of values.\n",
    "- Median: The middle value of the variable when sorted.\n",
    "- Mode: The most frequent value of the variable.\n",
    "- Trimmed mean: The mean excluding x percent of the lowest and highest data points.\n"
   ]
  },
  {
   "cell_type": "code",
   "execution_count": null,
   "metadata": {},
   "outputs": [],
   "source": [
    "mean_budget = movies.production_budget.mean()\n",
    "mean_budget"
   ]
  },
  {
   "cell_type": "code",
   "execution_count": null,
   "metadata": {},
   "outputs": [],
   "source": [
    "med_budget = movies.production_budget.median()\n",
    "med_budget"
   ]
  },
  {
   "cell_type": "code",
   "execution_count": null,
   "metadata": {},
   "outputs": [],
   "source": [
    "mode_budget = movies.production_budget.mode()\n",
    "mode_budget"
   ]
  },
  {
   "cell_type": "code",
   "execution_count": null,
   "metadata": {},
   "outputs": [],
   "source": [
    "from scipy.stats import trim_mean\n",
    "\n",
    "trimmed_mean = trim_mean(movies.production_budget, proportiontocut=0.2)\n",
    "trimmed_mean"
   ]
  },
  {
   "cell_type": "markdown",
   "metadata": {},
   "source": [
    "### Spread for Quantitative Data\n",
    "\n",
    "The spread of a quantitative variable describes the amount of variability.\n",
    "\n",
    "- Range: The difference between the maximum and minimum values of a variable.\n",
    "- Interquartile range (IQR): The difference between the 75th and 25th percentile values.\n",
    "- Variance: The average of the squared distance from each data point to the mean.\n",
    "- Standard deviation (SD): The square root of the variance.\n",
    "- Mean absolute deviation (MAD): The mean absolute value of the distance between each data point and the mean.\n"
   ]
  },
  {
   "cell_type": "code",
   "execution_count": null,
   "metadata": {},
   "outputs": [],
   "source": [
    "# Save the range to range_budget\n",
    "range_budget = movies.production_budget.max() - movies.production_budget.min()\n",
    "range_budget"
   ]
  },
  {
   "cell_type": "code",
   "execution_count": null,
   "metadata": {},
   "outputs": [],
   "source": [
    "# Save the interquartile range to iqr_budget\n",
    "from scipy.stats import iqr\n",
    "\n",
    "iqr_budget = iqr(movies.production_budget)\n",
    "iqr_budget"
   ]
  },
  {
   "cell_type": "code",
   "execution_count": null,
   "metadata": {},
   "outputs": [],
   "source": [
    "# Save the variance to var_budget\n",
    "\n",
    "var_budget = movies.production_budget.var()\n",
    "var_budget"
   ]
  },
  {
   "cell_type": "code",
   "execution_count": null,
   "metadata": {},
   "outputs": [],
   "source": [
    "# Save the standard deviation to std_budget\n",
    "\n",
    "std_budget = movies.production_budget.std()\n",
    "std_budget"
   ]
  },
  {
   "cell_type": "markdown",
   "metadata": {},
   "source": [
    "### Visualizing Quantitative Variables\n",
    "\n",
    "For quantitative variables, boxplots and histograms are two common visualizations. These plots are useful because they simultaneously communicate information about minimum and maximum values, central location, and spread. Histograms can additionally illuminate patterns that can impact an analysis (e.g., skew or multimodality).\n"
   ]
  },
  {
   "cell_type": "code",
   "execution_count": null,
   "metadata": {},
   "outputs": [],
   "source": [
    "import matplotlib.pyplot as plt\n",
    "import seaborn as sns"
   ]
  },
  {
   "cell_type": "code",
   "execution_count": null,
   "metadata": {},
   "outputs": [],
   "source": [
    "sns.boxplot(x=\"production_budget\", data=movies)\n",
    "plt.show()\n",
    "plt.close()"
   ]
  },
  {
   "cell_type": "code",
   "execution_count": null,
   "metadata": {},
   "outputs": [],
   "source": [
    "sns.histplot(x=\"production_budget\", data=movies)\n",
    "plt.show()\n",
    "plt.close()"
   ]
  },
  {
   "cell_type": "markdown",
   "metadata": {},
   "source": [
    "### Value Counts for Categorical Data\n",
    "\n",
    "The pandas library offers the .value_counts() method for generating the counts of all values in a DataFrame column:\n"
   ]
  },
  {
   "cell_type": "code",
   "execution_count": null,
   "metadata": {},
   "outputs": [],
   "source": [
    "# Save the counts to genre_counts\n",
    "\n",
    "genre_counts = movies.genre.value_counts()\n",
    "genre_counts"
   ]
  },
  {
   "cell_type": "markdown",
   "metadata": {},
   "source": [
    "### Value Proportions for Categorical Data\n",
    "\n",
    "We can calculate the proportion for each category by dividing its count by the total number of values for that variable:\n"
   ]
  },
  {
   "cell_type": "code",
   "execution_count": null,
   "metadata": {},
   "outputs": [],
   "source": [
    "# Save the proportions to genre_props\n",
    "genre_props = movies.genre.value_counts() / len(movies.genre)\n",
    "genre_props"
   ]
  },
  {
   "cell_type": "markdown",
   "metadata": {},
   "source": [
    "### Visualizing Categorical Variables\n",
    "\n",
    "Python’s seaborn library offers several functions that can create bar charts. The simplest for plotting the counts is countplot():\n"
   ]
  },
  {
   "cell_type": "code",
   "execution_count": null,
   "metadata": {},
   "outputs": [],
   "source": [
    "# Create a bar chart for movie genre\n",
    "sns.countplot(x=\"genre\", data=movies)\n",
    "plt.show()\n",
    "plt.close()"
   ]
  },
  {
   "cell_type": "code",
   "execution_count": null,
   "metadata": {},
   "outputs": [],
   "source": [
    "# Create a pie chart for movie genre\n",
    "\n",
    "movies.genre.value_counts().plot.pie()\n",
    "plt.show()\n",
    "plt.close()"
   ]
  },
  {
   "cell_type": "markdown",
   "metadata": {},
   "source": [
    "### Review\n",
    "- We can use .describe(include='all') to quickly display common summary statistics for all columns in a pandas DataFrame.\n",
    "- For quantitative variables, measures of central tendency (e.g., mean, median, mode) and spread (e.g., range, variance, standard deviation) are good ways to summarize the data. Boxplots and histograms are often used for visualization.\n",
    "- For categorical variables, the relative frequencies of each category can be summarized using a table of counts or proportions. Bar charts and pie charts are often used for visualization."
   ]
  }
 ],
 "metadata": {
  "kernelspec": {
   "display_name": "Python 3",
   "language": "python",
   "name": "python3"
  },
  "language_info": {
   "codemirror_mode": {
    "name": "ipython",
    "version": 3
   },
   "file_extension": ".py",
   "mimetype": "text/x-python",
   "name": "python",
   "nbconvert_exporter": "python",
   "pygments_lexer": "ipython3",
   "version": "3.11.6"
  }
 },
 "nbformat": 4,
 "nbformat_minor": 2
}
