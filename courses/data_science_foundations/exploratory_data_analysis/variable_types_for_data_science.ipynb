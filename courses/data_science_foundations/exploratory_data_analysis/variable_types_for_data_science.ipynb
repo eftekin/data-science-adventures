{
 "cells": [
  {
   "cell_type": "markdown",
   "metadata": {},
   "source": [
    "### Assessing Variable Types\n",
    "\n",
    "How we evaluate determines what kind of variable we have. Since there are only two ways to get data, there are only two types of variables: numerical and categorical.\n"
   ]
  },
  {
   "cell_type": "code",
   "execution_count": null,
   "metadata": {},
   "outputs": [],
   "source": [
    "import pandas as pd"
   ]
  },
  {
   "cell_type": "code",
   "execution_count": null,
   "metadata": {},
   "outputs": [],
   "source": [
    "movies = pd.read_csv(\"../Learn Pandas/csv/netflix_movies.csv\")\n",
    "movies.head()\n",
    "# Rating variable type is categorical"
   ]
  },
  {
   "cell_type": "markdown",
   "metadata": {},
   "source": [
    "### Categorical Variables\n",
    "\n",
    "Categorical variables come in 3 types:\n",
    "\n",
    "- Nominal variables, which describe something,\n",
    "- Ordinal variables, which have an inherent ranking, and\n",
    "- Binary variables, which have only two possible variations.\n",
    "\n",
    "#### Nominal Variables\n",
    "\n",
    "When we want to describe something about the world, we need a nominal variable. Nominal variables are usually words (i.e., red, yellow, blue or hot, cold), but they can also be numbers (i.e., zip codes or user id’s).\n",
    "\n",
    "#### Ordinal variables\n",
    "\n",
    "When our categories have an inherent order, we need an ordinal variable. Ordinal variables are usually described by numbers like 1st, 2nd, 3rd. Places in a race, grades in school, and the scales in survey responses (Likert Scales) are ordinal variables.\n",
    "\n",
    "#### Binary variables\n",
    "\n",
    "When there are only two logically possible variations, we need a binary variable. Binary variables are things like on/off, yes/no, and TRUE/FALSE. If there is any possibility of a third option, it is not a binary variable.\n"
   ]
  },
  {
   "cell_type": "code",
   "execution_count": null,
   "metadata": {},
   "outputs": [],
   "source": [
    "movies[\"country\"].unique\n",
    "# Country variable type is nominal"
   ]
  },
  {
   "cell_type": "markdown",
   "metadata": {},
   "source": [
    "### Quantitative Variables\n",
    "\n",
    "Numerical variables are created two ways:\n",
    "\n",
    "- Continuous (measurements)\n",
    "- Discrete (counts)\n",
    "\n",
    "Continuous variables come from measurements. For a variable to be continuous, there must be infinitely smaller units of measurement between one unit and the next unit.\n",
    "Discrete variables come from counting. For a variable to be discrete, there must be gaps between the smallest possible units. People, cars, and dogs are all good examples of discrete variables.\n"
   ]
  },
  {
   "cell_type": "code",
   "execution_count": null,
   "metadata": {},
   "outputs": [],
   "source": [
    "movies.head()\n",
    "# release_year variable type is discrete"
   ]
  },
  {
   "cell_type": "markdown",
   "metadata": {},
   "source": [
    "### Changing Numerical Variable Data Types\n",
    "\n",
    "- Continuous (numerical) variables should usually be stored as the **float data type** because they allow us to store decimal values.\n",
    "- Discrete (numerical) variables should be stored as the **int datatype** to represent mathematically that they are discrete.\n"
   ]
  },
  {
   "cell_type": "code",
   "execution_count": null,
   "metadata": {},
   "outputs": [],
   "source": [
    "movies.dtypes"
   ]
  },
  {
   "cell_type": "code",
   "execution_count": null,
   "metadata": {},
   "outputs": [],
   "source": [
    "movies[\"cast_count\"].fillna(\n",
    "    0, inplace=True\n",
    ")  # the line of code that replaces the null values with 0. If this is not performed, it will give an error when changing the data type because of null values.\n",
    "movies[\"cast_count\"] = movies[\"cast_count\"].astype(\"int64\")\n",
    "movies.dtypes"
   ]
  },
  {
   "cell_type": "markdown",
   "metadata": {},
   "source": [
    "### Changing Categorical Variable Data Types\n",
    "\n",
    "- Nominal variables are often represented by the object data type. Nominal variables are also represented by the string data type. However, Pandas usually guesses object rather than string\n",
    "- Ordinal variables should be represented as objects, but pandas often guesses int\n",
    "- Binary variables can be represented as bool, but pandas often guesses int or object data types.\n"
   ]
  },
  {
   "cell_type": "code",
   "execution_count": null,
   "metadata": {},
   "outputs": [],
   "source": [
    "movies[\"title\"] = movies[\"title\"].astype(\"string\")\n",
    "movies.dtypes"
   ]
  },
  {
   "cell_type": "code",
   "execution_count": null,
   "metadata": {},
   "outputs": [],
   "source": [
    "movies[\"type\"] = movies[\"type\"].astype(\"string\")\n",
    "movies.dtypes"
   ]
  },
  {
   "cell_type": "markdown",
   "metadata": {},
   "source": [
    "### The Pandas Category Data Type\n"
   ]
  },
  {
   "cell_type": "code",
   "execution_count": null,
   "metadata": {},
   "outputs": [],
   "source": [
    "movies.head()"
   ]
  },
  {
   "cell_type": "code",
   "execution_count": null,
   "metadata": {},
   "outputs": [],
   "source": [
    "movies.rating.unique()"
   ]
  },
  {
   "cell_type": "code",
   "execution_count": null,
   "metadata": {},
   "outputs": [],
   "source": [
    "movies[\"rating\"] = pd.Categorical(movies[\"rating\"], [\"NR\", \"G\", \"PG\", \"PG-13\", \"R\"])\n",
    "movies.rating.unique()"
   ]
  },
  {
   "cell_type": "markdown",
   "metadata": {},
   "source": [
    "### One-Hot Encoding\n",
    "With OHE, we essentially create a new binary variable for each of the categories within our original variable. This technique is useful when managing nominal variables because it encodes the variable without creating an order among the categories."
   ]
  },
  {
   "cell_type": "code",
   "execution_count": null,
   "metadata": {},
   "outputs": [],
   "source": [
    "cereal = pd.read_csv(\"../Learn Pandas/csv/cereal.csv\")\n",
    "cereal.head()"
   ]
  },
  {
   "cell_type": "code",
   "execution_count": null,
   "metadata": {},
   "outputs": [],
   "source": [
    "cereal = pd.get_dummies(data=cereal, columns=[\"mfr\"])\n",
    "cereal.head()"
   ]
  },
  {
   "cell_type": "markdown",
   "metadata": {},
   "source": [
    "### Review\n",
    "- .head() to explore datasets \n",
    "- .dtypes to check data type of variables\n",
    "- .astype() to change data types of variables\n",
    "- pandas category data type\n",
    "- pd.get_dummies() to OHE"
   ]
  }
 ],
 "metadata": {
  "kernelspec": {
   "display_name": "Python 3",
   "language": "python",
   "name": "python3"
  },
  "language_info": {
   "codemirror_mode": {
    "name": "ipython",
    "version": 3
   },
   "file_extension": ".py",
   "mimetype": "text/x-python",
   "name": "python",
   "nbconvert_exporter": "python",
   "pygments_lexer": "ipython3",
   "version": "3.11.6"
  }
 },
 "nbformat": 4,
 "nbformat_minor": 2
}
