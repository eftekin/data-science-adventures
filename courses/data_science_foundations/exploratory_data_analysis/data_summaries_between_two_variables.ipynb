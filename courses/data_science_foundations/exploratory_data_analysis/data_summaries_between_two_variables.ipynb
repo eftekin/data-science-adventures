{
 "cells": [
  {
   "cell_type": "markdown",
   "metadata": {},
   "source": [
    "### 1- Associations: Quantitative and Categorical Variables\n"
   ]
  },
  {
   "cell_type": "code",
   "execution_count": null,
   "metadata": {},
   "outputs": [],
   "source": [
    "import numpy as np\n",
    "import pandas as pd\n",
    "import seaborn as sns\n",
    "import matplotlib.pyplot as plt\n",
    "from scipy.stats import pearsonr, chi2_contingency"
   ]
  },
  {
   "cell_type": "code",
   "execution_count": null,
   "metadata": {},
   "outputs": [],
   "source": [
    "students_df = pd.read_csv(\"../learn_pandas/csv/students.csv\")\n",
    "students_df.head()"
   ]
  },
  {
   "cell_type": "code",
   "execution_count": null,
   "metadata": {},
   "outputs": [],
   "source": [
    "# separate out scores for students who live in urban and rural locations:\n",
    "students_urban = students_df.G3[students_df.address == \"U\"]\n",
    "students_rural = students_df.G3[students_df.address == \"R\"]"
   ]
  },
  {
   "cell_type": "markdown",
   "metadata": {},
   "source": [
    "#### Mean and Median Differences\n"
   ]
  },
  {
   "cell_type": "code",
   "execution_count": null,
   "metadata": {},
   "outputs": [],
   "source": [
    "scores_urban_mean = np.mean(students_urban)  # 10.67\n",
    "scores_rural_mean = np.mean(students_rural)  # 9.51\n",
    "\n",
    "mean_diff = scores_urban_mean - scores_rural_mean\n",
    "mean_diff  # output: 1.1629034646135619"
   ]
  },
  {
   "cell_type": "code",
   "execution_count": null,
   "metadata": {},
   "outputs": [],
   "source": [
    "scores_urban_median = np.median(students_urban)\n",
    "scores_rural_median = np.median(students_rural)\n",
    "\n",
    "median_diff = scores_urban_median - scores_rural_median\n",
    "median_diff  # output: 1.0"
   ]
  },
  {
   "cell_type": "markdown",
   "metadata": {},
   "source": [
    "#### Side-by-Side Box Plots\n"
   ]
  },
  {
   "cell_type": "code",
   "execution_count": null,
   "metadata": {},
   "outputs": [],
   "source": [
    "# Generate side-by-side boxplots for student scores (G3) by address.\n",
    "sns.boxplot(data=students_df, x=\"address\", y=\"G3\")\n",
    "plt.show()"
   ]
  },
  {
   "cell_type": "markdown",
   "metadata": {},
   "source": [
    "#### Inspecting Overlapping Histograms\n"
   ]
  },
  {
   "cell_type": "code",
   "execution_count": null,
   "metadata": {},
   "outputs": [],
   "source": [
    "plt.hist(students_urban, color=\"blue\", label=\"U\", density=True, alpha=0.5)\n",
    "plt.hist(students_rural, color=\"red\", label=\"R\", density=True, alpha=0.5)\n",
    "plt.legend()\n",
    "plt.show()"
   ]
  },
  {
   "cell_type": "markdown",
   "metadata": {},
   "source": [
    "#### Exploring Non-Binary Categorical Variables\n"
   ]
  },
  {
   "cell_type": "code",
   "execution_count": null,
   "metadata": {},
   "outputs": [],
   "source": [
    "sns.boxplot(data=students_df, x=\"Fjob\", y=\"G3\")\n",
    "plt.show()"
   ]
  },
  {
   "cell_type": "markdown",
   "metadata": {},
   "source": [
    "### 2- Associations: Two Quantitative Variables\n"
   ]
  },
  {
   "cell_type": "code",
   "execution_count": null,
   "metadata": {},
   "outputs": [],
   "source": [
    "housing_df = pd.read_csv(\"../learn_pandas/csv/housing_sample.csv\")\n",
    "housing_df.head(10)"
   ]
  },
  {
   "cell_type": "code",
   "execution_count": null,
   "metadata": {},
   "outputs": [],
   "source": [
    "plt.scatter(x=housing_df.beds, y=housing_df.sqfeet)\n",
    "plt.xlabel(\"number of beds\")\n",
    "plt.ylabel(\"area of a rental\")\n",
    "plt.show()"
   ]
  },
  {
   "cell_type": "markdown",
   "metadata": {},
   "source": [
    "#### Exploring Covariance\n",
    "\n",
    "Covariance can range from negative infinity to positive infinity. A positive covariance indicates that a larger value of one variable is associated with a larger value of the other. A negative covariance indicates a larger value of one variable is associated with a smaller value of the other. A covariance of 0 indicates no linear relationship.\n"
   ]
  },
  {
   "cell_type": "code",
   "execution_count": null,
   "metadata": {},
   "outputs": [],
   "source": [
    "np.set_printoptions(suppress=True, precision=1)\n",
    "cov_mat_sqfeet_beds = np.cov(housing_df.sqfeet, housing_df.beds)\n",
    "cov_mat_sqfeet_beds"
   ]
  },
  {
   "cell_type": "code",
   "execution_count": null,
   "metadata": {},
   "outputs": [],
   "source": [
    "cov_sqfeet_beds = 228.2\n",
    "cov_sqfeet_beds"
   ]
  },
  {
   "cell_type": "markdown",
   "metadata": {},
   "source": [
    "#### Correlation\n",
    "\n",
    "Like covariance, Pearson Correlation (often referred to simply as “correlation”) is a scaled form of covariance. It also measures the strength of a linear relationship, but ranges from -1 to +1, making it more interpretable.\n",
    "\n",
    "Generally, a correlation larger than about .3 indicates a linear association. A correlation greater than about .6 suggestions a strong linear association.\n"
   ]
  },
  {
   "cell_type": "code",
   "execution_count": null,
   "metadata": {},
   "outputs": [],
   "source": [
    "corr_sqfeet_beds, p = pearsonr(housing_df.sqfeet, housing_df.beds)\n",
    "\n",
    "plt.scatter(x=housing_df.beds, y=housing_df.sqfeet)\n",
    "plt.xlabel(\"number of beds\")\n",
    "plt.ylabel(\"area of a rental\")\n",
    "plt.show()\n",
    "corr_sqfeet_beds"
   ]
  },
  {
   "cell_type": "markdown",
   "metadata": {},
   "source": [
    "It’s important to note that there are some limitations to using correlation or covariance as a way of assessing whether there is an association between two variables. Because correlation and covariance both measure the strength of linear relationships with non-zero slopes, but not other kinds of relationships, correlation can be misleading.\n"
   ]
  },
  {
   "cell_type": "code",
   "execution_count": null,
   "metadata": {},
   "outputs": [],
   "source": [
    "sleep_df = pd.read_csv(\"../learn_pandas/csv/sleep_performance.csv\")\n",
    "sleep_df.head()"
   ]
  },
  {
   "cell_type": "code",
   "execution_count": null,
   "metadata": {},
   "outputs": [],
   "source": [
    "plt.scatter(x=sleep_df.hours_sleep, y=sleep_df.performance)\n",
    "plt.show()"
   ]
  },
  {
   "cell_type": "code",
   "execution_count": null,
   "metadata": {},
   "outputs": [],
   "source": [
    "corr_sleep_performance, p = pearsonr(sleep_df.hours_sleep, sleep_df.performance)\n",
    "corr_sleep_performance  # output: 0.2814978189049413\n",
    "# The correlation is only 0.28 (a relatively small correlation)"
   ]
  },
  {
   "cell_type": "markdown",
   "metadata": {},
   "source": [
    "### 3- Associations: Two Categorical Variables\n"
   ]
  },
  {
   "cell_type": "code",
   "execution_count": null,
   "metadata": {},
   "outputs": [],
   "source": [
    "# influence: yes = I have a natural talent for influencing people; no = I am not good at influencing people.\n",
    "# blend_in: yes = I prefer to blend in with the crowd; no = I like to be the center of attention.\n",
    "# special: yes = I think I am a special person; no = I am no better or worse than most people.\n",
    "# leader: yes = I see myself as a good leader; no = I am not sure if I would make a good leader.\n",
    "# authority: yes = I like to have authority over other people; no = I don’t mind following orders.\n",
    "\n",
    "npi_df = pd.read_csv(\n",
    "    \"../learn_pandas/csv/npi_sample.csv\"\n",
    ")  # Narcissistic Personality Inventory\n",
    "npi_df.head()"
   ]
  },
  {
   "cell_type": "markdown",
   "metadata": {},
   "source": [
    "#### Contingency Tables: Frequencies\n"
   ]
  },
  {
   "cell_type": "code",
   "execution_count": null,
   "metadata": {},
   "outputs": [],
   "source": [
    "special_authority_freq = pd.crosstab(npi_df.special, npi_df.authority)\n",
    "special_authority_freq"
   ]
  },
  {
   "cell_type": "markdown",
   "metadata": {},
   "source": [
    "#### Contingency Tables: Proportions\n"
   ]
  },
  {
   "cell_type": "code",
   "execution_count": null,
   "metadata": {},
   "outputs": [],
   "source": [
    "special_authority_prop = special_authority_freq / len(npi_df)\n",
    "special_authority_prop"
   ]
  },
  {
   "cell_type": "markdown",
   "metadata": {},
   "source": [
    "#### Marginal Proportions\n"
   ]
  },
  {
   "cell_type": "code",
   "execution_count": null,
   "metadata": {},
   "outputs": [],
   "source": [
    "authority_marginal = special_authority_prop.sum(axis=0)\n",
    "authority_marginal"
   ]
  },
  {
   "cell_type": "code",
   "execution_count": null,
   "metadata": {},
   "outputs": [],
   "source": [
    "special_marginal = special_authority_prop.sum(axis=1)\n",
    "special_marginal"
   ]
  },
  {
   "cell_type": "markdown",
   "metadata": {},
   "source": [
    "#### Expected Contingency Tables\n"
   ]
  },
  {
   "cell_type": "code",
   "execution_count": null,
   "metadata": {},
   "outputs": [],
   "source": [
    "chi2, pval, dof, expected = chi2_contingency(special_authority_freq)\n",
    "print(\"expected contingency table (no association):\")\n",
    "print(np.round(expected))"
   ]
  },
  {
   "cell_type": "markdown",
   "metadata": {},
   "source": [
    "#### The Chi-Square Statistic"
   ]
  },
  {
   "cell_type": "code",
   "execution_count": null,
   "metadata": {},
   "outputs": [],
   "source": [
    "chi2, pval, dof, expected = chi2_contingency(special_authority_freq)\n",
    "chi2"
   ]
  }
 ],
 "metadata": {
  "kernelspec": {
   "display_name": "Python 3",
   "language": "python",
   "name": "python3"
  },
  "language_info": {
   "codemirror_mode": {
    "name": "ipython",
    "version": 3
   },
   "file_extension": ".py",
   "mimetype": "text/x-python",
   "name": "python",
   "nbconvert_exporter": "python",
   "pygments_lexer": "ipython3",
   "version": "3.12.2"
  }
 },
 "nbformat": 4,
 "nbformat_minor": 2
}
