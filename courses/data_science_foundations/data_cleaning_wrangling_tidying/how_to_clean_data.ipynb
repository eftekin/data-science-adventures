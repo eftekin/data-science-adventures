{
 "cells": [
  {
   "cell_type": "markdown",
   "metadata": {},
   "source": [
    "## How To Clean Data"
   ]
  },
  {
   "cell_type": "markdown",
   "metadata": {},
   "source": [
    "### Diagnose the Data\n",
    "\n",
    "We often describe data that is easy to analyze and visualize as “tidy data”. What does it mean to have tidy data?\n",
    "\n",
    "For data to be tidy, it must have:\n",
    "\n",
    "- Each variable as a separate column\n",
    "- Each row as a separate observation\n",
    "\n",
    "You’ve seen most of the functions we often use to diagnose a dataset for cleaning. Some of the most useful ones are:\n",
    "\n",
    "- `.head()` — display the first 5 rows of the table\n",
    "- `.info()` — display a summary of the table\n",
    "- `.describe()` — display the summary statistics of the table\n",
    "- `.columns` — display the column names of the table\n",
    "- `.value_counts()` — display the distinct values for a column\n"
   ]
  },
  {
   "cell_type": "code",
   "execution_count": 122,
   "metadata": {},
   "outputs": [
    {
     "name": "stdout",
     "output_type": "stream",
     "text": [
      "  Grocery Item  Cake Recipe  Pancake Recipe  Cookie Recipe\n",
      "0         Eggs            2               3              1\n",
      "1         Milk            1               2              1\n",
      "2        Flour            2               1              2\n",
      "  Grocery Item          Recipe  Number\n",
      "0         Eggs     Cake Recipe       2\n",
      "1         Milk     Cake Recipe       1\n",
      "2        Flour     Cake Recipe       2\n",
      "3         Eggs  Pancake Recipe       3\n",
      "4         Milk  Pancake Recipe       2\n"
     ]
    }
   ],
   "source": [
    "import pandas as pd\n",
    "\n",
    "df1 = pd.read_csv(\"./csv/df1.csv\")\n",
    "df2 = pd.read_csv(\"./csv/df2.csv\")\n",
    "\n",
    "print(df1.head())\n",
    "print(df2.head())"
   ]
  },
  {
   "cell_type": "markdown",
   "metadata": {},
   "source": [
    "### Dealing with Multiple Files\n",
    "\n",
    "Let’s say that we have a ton of files following the filename structure: 'file1.csv', 'file2.csv', 'file3.csv', and so on. The power of pandas is mainly in being able to manipulate large amounts of structured data, so we want to be able to get all of the relevant information into one table so that we can analyze the aggregate data.\n",
    "\n",
    "We can combine the use of glob, a Python library for working with files, with pandas to organize this data better. glob can open multiple files by using regex matching to get the filenames:"
   ]
  },
  {
   "cell_type": "code",
   "execution_count": 123,
   "metadata": {},
   "outputs": [
    {
     "name": "stdout",
     "output_type": "stream",
     "text": [
      "    id         full_name gender_age fractions probability       grade\n",
      "0    0    Barrett Feragh        M14       76%         72%   9th grade\n",
      "1    1   Llewellyn Keech        M14       83%         NaN  12th grade\n",
      "2    2   Llewellyn Keech        M14       83%         NaN  12th grade\n",
      "3    3      Terrell Geri        M15       80%         86%  11th grade\n",
      "4    4    Gram Hallewell        M14       67%         78%  10th grade\n",
      "..  ..               ...        ...       ...         ...         ...\n",
      "95  95     Donia Stockoe        F18       88%         84%  10th grade\n",
      "96  96   Korella Spurden        F16       79%         81%   9th grade\n",
      "97  97     Basilius Sine        M17       66%         85%  10th grade\n",
      "98  98  Kingston Akaster        M14       71%         75%   9th grade\n",
      "99  99     Carita Utting        F16       68%         83%  11th grade\n",
      "\n",
      "[400 rows x 6 columns]\n",
      "400\n"
     ]
    }
   ],
   "source": [
    "import glob\n",
    "\n",
    "student_files = glob.glob(\"./csv/exam*.csv\")\n",
    "\n",
    "df_list = []\n",
    "\n",
    "for df_file in student_files:\n",
    "  df = pd.read_csv(df_file)\n",
    "  df_list.append(df)\n",
    "\n",
    "students = pd.concat(df_list)\n",
    "\n",
    "print(students)\n",
    "print(len(students))"
   ]
  },
  {
   "cell_type": "markdown",
   "metadata": {},
   "source": [
    "### Dealing with Duplicates\n",
    "\n",
    "Often we see duplicated rows of data in the DataFrames we are working with. This could happen due to errors in data collection or in saving and loading the data.\n",
    "\n",
    "To check for duplicates, we can use the pandas function `.duplicated()`, which will return a Series telling us which rows are duplicate rows.\n",
    "\n",
    "We can use the pandas `.drop_duplicates()` function to remove all rows that are duplicates of another row.\n",
    "\n"
   ]
  },
  {
   "cell_type": "code",
   "execution_count": 124,
   "metadata": {},
   "outputs": [
    {
     "name": "stdout",
     "output_type": "stream",
     "text": [
      "0    False\n",
      "1    False\n",
      "2    False\n",
      "3    False\n",
      "4    False\n",
      "dtype: bool\n",
      "False    400\n",
      "Name: count, dtype: int64\n",
      "0    False\n",
      "1    False\n",
      "2    False\n",
      "3    False\n",
      "4    False\n",
      "dtype: bool\n",
      "False    400\n",
      "Name: count, dtype: int64\n"
     ]
    }
   ],
   "source": [
    "duplicates = students.duplicated()\n",
    "print(duplicates.head())\n",
    "print(duplicates.value_counts())\n",
    "students = students.drop_duplicates()\n",
    "duplicates = students.duplicated()\n",
    "print(duplicates.head())\n",
    "print(duplicates.value_counts())"
   ]
  },
  {
   "cell_type": "markdown",
   "metadata": {},
   "source": [
    "### Splitting by Index\n",
    "\n",
    "In trying to get clean data, we want to make sure each column represents one type of measurement. Often, multiple measurements are recorded in the same column, and we want to separate these out so that we can do individual analysis on each variable."
   ]
  },
  {
   "cell_type": "code",
   "execution_count": 125,
   "metadata": {},
   "outputs": [
    {
     "name": "stdout",
     "output_type": "stream",
     "text": [
      "Index(['id', 'full_name', 'gender_age', 'fractions', 'probability', 'grade'], dtype='object')\n",
      "0    M14\n",
      "1    M14\n",
      "2    M14\n",
      "3    M15\n",
      "4    M14\n",
      "Name: gender_age, dtype: object\n",
      "   id        full_name gender_age fractions probability       grade gender age\n",
      "0   0   Barrett Feragh        M14       76%         72%   9th grade      M  14\n",
      "1   1  Llewellyn Keech        M14       83%         NaN  12th grade      M  14\n",
      "2   2  Llewellyn Keech        M14       83%         NaN  12th grade      M  14\n",
      "3   3     Terrell Geri        M15       80%         86%  11th grade      M  15\n",
      "4   4   Gram Hallewell        M14       67%         78%  10th grade      M  14\n"
     ]
    },
    {
     "data": {
      "text/html": [
       "<div>\n",
       "<style scoped>\n",
       "    .dataframe tbody tr th:only-of-type {\n",
       "        vertical-align: middle;\n",
       "    }\n",
       "\n",
       "    .dataframe tbody tr th {\n",
       "        vertical-align: top;\n",
       "    }\n",
       "\n",
       "    .dataframe thead th {\n",
       "        text-align: right;\n",
       "    }\n",
       "</style>\n",
       "<table border=\"1\" class=\"dataframe\">\n",
       "  <thead>\n",
       "    <tr style=\"text-align: right;\">\n",
       "      <th></th>\n",
       "      <th>full_name</th>\n",
       "      <th>grade</th>\n",
       "      <th>gender</th>\n",
       "      <th>age</th>\n",
       "    </tr>\n",
       "  </thead>\n",
       "  <tbody>\n",
       "    <tr>\n",
       "      <th>0</th>\n",
       "      <td>Barrett Feragh</td>\n",
       "      <td>9th grade</td>\n",
       "      <td>M</td>\n",
       "      <td>14</td>\n",
       "    </tr>\n",
       "    <tr>\n",
       "      <th>1</th>\n",
       "      <td>Llewellyn Keech</td>\n",
       "      <td>12th grade</td>\n",
       "      <td>M</td>\n",
       "      <td>14</td>\n",
       "    </tr>\n",
       "    <tr>\n",
       "      <th>2</th>\n",
       "      <td>Llewellyn Keech</td>\n",
       "      <td>12th grade</td>\n",
       "      <td>M</td>\n",
       "      <td>14</td>\n",
       "    </tr>\n",
       "    <tr>\n",
       "      <th>3</th>\n",
       "      <td>Terrell Geri</td>\n",
       "      <td>11th grade</td>\n",
       "      <td>M</td>\n",
       "      <td>15</td>\n",
       "    </tr>\n",
       "    <tr>\n",
       "      <th>4</th>\n",
       "      <td>Gram Hallewell</td>\n",
       "      <td>10th grade</td>\n",
       "      <td>M</td>\n",
       "      <td>14</td>\n",
       "    </tr>\n",
       "    <tr>\n",
       "      <th>...</th>\n",
       "      <td>...</td>\n",
       "      <td>...</td>\n",
       "      <td>...</td>\n",
       "      <td>...</td>\n",
       "    </tr>\n",
       "    <tr>\n",
       "      <th>95</th>\n",
       "      <td>Donia Stockoe</td>\n",
       "      <td>10th grade</td>\n",
       "      <td>F</td>\n",
       "      <td>18</td>\n",
       "    </tr>\n",
       "    <tr>\n",
       "      <th>96</th>\n",
       "      <td>Korella Spurden</td>\n",
       "      <td>9th grade</td>\n",
       "      <td>F</td>\n",
       "      <td>16</td>\n",
       "    </tr>\n",
       "    <tr>\n",
       "      <th>97</th>\n",
       "      <td>Basilius Sine</td>\n",
       "      <td>10th grade</td>\n",
       "      <td>M</td>\n",
       "      <td>17</td>\n",
       "    </tr>\n",
       "    <tr>\n",
       "      <th>98</th>\n",
       "      <td>Kingston Akaster</td>\n",
       "      <td>9th grade</td>\n",
       "      <td>M</td>\n",
       "      <td>14</td>\n",
       "    </tr>\n",
       "    <tr>\n",
       "      <th>99</th>\n",
       "      <td>Carita Utting</td>\n",
       "      <td>11th grade</td>\n",
       "      <td>F</td>\n",
       "      <td>16</td>\n",
       "    </tr>\n",
       "  </tbody>\n",
       "</table>\n",
       "<p>400 rows × 4 columns</p>\n",
       "</div>"
      ],
      "text/plain": [
       "           full_name       grade gender age\n",
       "0     Barrett Feragh   9th grade      M  14\n",
       "1    Llewellyn Keech  12th grade      M  14\n",
       "2    Llewellyn Keech  12th grade      M  14\n",
       "3       Terrell Geri  11th grade      M  15\n",
       "4     Gram Hallewell  10th grade      M  14\n",
       "..               ...         ...    ...  ..\n",
       "95     Donia Stockoe  10th grade      F  18\n",
       "96   Korella Spurden   9th grade      F  16\n",
       "97     Basilius Sine  10th grade      M  17\n",
       "98  Kingston Akaster   9th grade      M  14\n",
       "99     Carita Utting  11th grade      F  16\n",
       "\n",
       "[400 rows x 4 columns]"
      ]
     },
     "execution_count": 125,
     "metadata": {},
     "output_type": "execute_result"
    }
   ],
   "source": [
    "print(students.columns)\n",
    "print(students.gender_age.head())\n",
    "\n",
    "students['gender'] = students.gender_age.str[0]\n",
    "students['age'] = students.gender_age.str[1:]\n",
    "print(students.head())\n",
    "students[['full_name','grade','gender','age']]"
   ]
  },
  {
   "cell_type": "markdown",
   "metadata": {},
   "source": [
    "### Splitting by Character\n",
    "Let’s say we have a column called “type” with data entries in the format \"admin_US\" or \"user_Kenya\". Just like we saw before, this column actually contains two types of data. One seems to be the user type (with values like “admin” or “user”) and one seems to be the country this user is in (with values like “US” or “Kenya”).\n",
    "\n",
    "We can no longer just split along the first 4 characters because admin and user are of different lengths. Instead, we know that we want to split along the \"_\". Using that, we can split this column into two separate, cleaner columns:"
   ]
  },
  {
   "cell_type": "code",
   "execution_count": 126,
   "metadata": {},
   "outputs": [
    {
     "name": "stdout",
     "output_type": "stream",
     "text": [
      "   id        full_name gender_age fractions probability       grade gender  \\\n",
      "0   0   Barrett Feragh        M14       76%         72%   9th grade      M   \n",
      "1   1  Llewellyn Keech        M14       83%         NaN  12th grade      M   \n",
      "2   2  Llewellyn Keech        M14       83%         NaN  12th grade      M   \n",
      "3   3     Terrell Geri        M15       80%         86%  11th grade      M   \n",
      "4   4   Gram Hallewell        M14       67%         78%  10th grade      M   \n",
      "\n",
      "  age first_name  last_name  \n",
      "0  14    Barrett     Feragh  \n",
      "1  14  Llewellyn      Keech  \n",
      "2  14  Llewellyn      Keech  \n",
      "3  15    Terrell       Geri  \n",
      "4  14       Gram  Hallewell  \n"
     ]
    }
   ],
   "source": [
    "name_split = students['full_name'].str.split(\" \")\n",
    "students['first_name'] = name_split.str.get(0)\n",
    "students['last_name'] = name_split.str.get(1)\n",
    "\n",
    "print(students.head())"
   ]
  },
  {
   "cell_type": "markdown",
   "metadata": {},
   "source": [
    "### Looking at Types\n",
    "\n",
    "Each column of a DataFrame can hold items of the same data type or dtype. The dtypes that pandas uses are: float, int, bool, datetime, timedelta, category and object. Often, we want to convert between types so that we can do better analysis. If a numerical category like \"num_users\" is stored as a Series of objects instead of ints, for example, it makes it more difficult to do something like make a line graph of users over time.\n"
   ]
  },
  {
   "cell_type": "code",
   "execution_count": 127,
   "metadata": {},
   "outputs": [
    {
     "data": {
      "text/plain": [
       "id              int64\n",
       "full_name      object\n",
       "gender_age     object\n",
       "fractions      object\n",
       "probability    object\n",
       "grade          object\n",
       "gender         object\n",
       "age            object\n",
       "first_name     object\n",
       "last_name      object\n",
       "dtype: object"
      ]
     },
     "execution_count": 127,
     "metadata": {},
     "output_type": "execute_result"
    }
   ],
   "source": [
    "students.dtypes\n"
   ]
  },
  {
   "cell_type": "markdown",
   "metadata": {},
   "source": [
    "### String Parsing\n"
   ]
  },
  {
   "cell_type": "code",
   "execution_count": 128,
   "metadata": {},
   "outputs": [
    {
     "data": {
      "text/html": [
       "<div>\n",
       "<style scoped>\n",
       "    .dataframe tbody tr th:only-of-type {\n",
       "        vertical-align: middle;\n",
       "    }\n",
       "\n",
       "    .dataframe tbody tr th {\n",
       "        vertical-align: top;\n",
       "    }\n",
       "\n",
       "    .dataframe thead th {\n",
       "        text-align: right;\n",
       "    }\n",
       "</style>\n",
       "<table border=\"1\" class=\"dataframe\">\n",
       "  <thead>\n",
       "    <tr style=\"text-align: right;\">\n",
       "      <th></th>\n",
       "      <th>id</th>\n",
       "      <th>full_name</th>\n",
       "      <th>gender_age</th>\n",
       "      <th>fractions</th>\n",
       "      <th>probability</th>\n",
       "      <th>grade</th>\n",
       "      <th>gender</th>\n",
       "      <th>age</th>\n",
       "      <th>first_name</th>\n",
       "      <th>last_name</th>\n",
       "    </tr>\n",
       "  </thead>\n",
       "  <tbody>\n",
       "    <tr>\n",
       "      <th>0</th>\n",
       "      <td>0</td>\n",
       "      <td>Barrett Feragh</td>\n",
       "      <td>M14</td>\n",
       "      <td>76.0</td>\n",
       "      <td>72%</td>\n",
       "      <td>9th grade</td>\n",
       "      <td>M</td>\n",
       "      <td>14</td>\n",
       "      <td>Barrett</td>\n",
       "      <td>Feragh</td>\n",
       "    </tr>\n",
       "    <tr>\n",
       "      <th>1</th>\n",
       "      <td>1</td>\n",
       "      <td>Llewellyn Keech</td>\n",
       "      <td>M14</td>\n",
       "      <td>83.0</td>\n",
       "      <td>NaN</td>\n",
       "      <td>12th grade</td>\n",
       "      <td>M</td>\n",
       "      <td>14</td>\n",
       "      <td>Llewellyn</td>\n",
       "      <td>Keech</td>\n",
       "    </tr>\n",
       "    <tr>\n",
       "      <th>2</th>\n",
       "      <td>2</td>\n",
       "      <td>Llewellyn Keech</td>\n",
       "      <td>M14</td>\n",
       "      <td>83.0</td>\n",
       "      <td>NaN</td>\n",
       "      <td>12th grade</td>\n",
       "      <td>M</td>\n",
       "      <td>14</td>\n",
       "      <td>Llewellyn</td>\n",
       "      <td>Keech</td>\n",
       "    </tr>\n",
       "    <tr>\n",
       "      <th>3</th>\n",
       "      <td>3</td>\n",
       "      <td>Terrell Geri</td>\n",
       "      <td>M15</td>\n",
       "      <td>80.0</td>\n",
       "      <td>86%</td>\n",
       "      <td>11th grade</td>\n",
       "      <td>M</td>\n",
       "      <td>15</td>\n",
       "      <td>Terrell</td>\n",
       "      <td>Geri</td>\n",
       "    </tr>\n",
       "    <tr>\n",
       "      <th>4</th>\n",
       "      <td>4</td>\n",
       "      <td>Gram Hallewell</td>\n",
       "      <td>M14</td>\n",
       "      <td>67.0</td>\n",
       "      <td>78%</td>\n",
       "      <td>10th grade</td>\n",
       "      <td>M</td>\n",
       "      <td>14</td>\n",
       "      <td>Gram</td>\n",
       "      <td>Hallewell</td>\n",
       "    </tr>\n",
       "  </tbody>\n",
       "</table>\n",
       "</div>"
      ],
      "text/plain": [
       "   id        full_name gender_age  fractions probability       grade gender  \\\n",
       "0   0   Barrett Feragh        M14       76.0         72%   9th grade      M   \n",
       "1   1  Llewellyn Keech        M14       83.0         NaN  12th grade      M   \n",
       "2   2  Llewellyn Keech        M14       83.0         NaN  12th grade      M   \n",
       "3   3     Terrell Geri        M15       80.0         86%  11th grade      M   \n",
       "4   4   Gram Hallewell        M14       67.0         78%  10th grade      M   \n",
       "\n",
       "  age first_name  last_name  \n",
       "0  14    Barrett     Feragh  \n",
       "1  14  Llewellyn      Keech  \n",
       "2  14  Llewellyn      Keech  \n",
       "3  15    Terrell       Geri  \n",
       "4  14       Gram  Hallewell  "
      ]
     },
     "execution_count": 128,
     "metadata": {},
     "output_type": "execute_result"
    }
   ],
   "source": [
    "students.fractions = students['fractions'].replace('[%,]', '', regex=True)\n",
    "students.fractions = pd.to_numeric(students['fractions'])\n",
    "\n",
    "students.head()"
   ]
  },
  {
   "cell_type": "code",
   "execution_count": 129,
   "metadata": {},
   "outputs": [
    {
     "name": "stdout",
     "output_type": "stream",
     "text": [
      "0     9th grade\n",
      "1    12th grade\n",
      "2    12th grade\n",
      "3    11th grade\n",
      "4    10th grade\n",
      "Name: grade, dtype: object\n",
      "id               int64\n",
      "full_name       object\n",
      "gender_age      object\n",
      "fractions      float64\n",
      "probability     object\n",
      "grade           object\n",
      "gender          object\n",
      "age             object\n",
      "first_name      object\n",
      "last_name       object\n",
      "dtype: object\n",
      "10.6125\n"
     ]
    },
    {
     "name": "stderr",
     "output_type": "stream",
     "text": [
      "<>:5: SyntaxWarning: invalid escape sequence '\\d'\n",
      "<>:5: SyntaxWarning: invalid escape sequence '\\d'\n",
      "/var/folders/8q/xpg4bkkd4679dp34plrsh3tw0000gn/T/ipykernel_68891/3186036003.py:5: SyntaxWarning: invalid escape sequence '\\d'\n",
      "  students.grade = students.grade.str.split('(\\d+)', expand=True)[1]\n"
     ]
    }
   ],
   "source": [
    "print(students.grade.head())\n",
    "\n",
    "print(students.dtypes)\n",
    "\n",
    "students.grade = students.grade.str.split('(\\d+)', expand=True)[1]\n",
    "students.grade = pd.to_numeric(students.grade)\n",
    "\n",
    "avg_grade = students.grade.mean()\n",
    "\n",
    "print(avg_grade)"
   ]
  }
 ],
 "metadata": {
  "kernelspec": {
   "display_name": "Python 3",
   "language": "python",
   "name": "python3"
  },
  "language_info": {
   "codemirror_mode": {
    "name": "ipython",
    "version": 3
   },
   "file_extension": ".py",
   "mimetype": "text/x-python",
   "name": "python",
   "nbconvert_exporter": "python",
   "pygments_lexer": "ipython3",
   "version": "3.12.2"
  }
 },
 "nbformat": 4,
 "nbformat_minor": 2
}
